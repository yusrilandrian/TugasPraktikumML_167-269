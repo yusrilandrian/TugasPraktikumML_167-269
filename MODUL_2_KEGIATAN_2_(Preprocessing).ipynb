{
  "nbformat": 4,
  "nbformat_minor": 0,
  "metadata": {
    "colab": {
      "name": "MODUL_2_KEGIATAN_2 (Preprocessing).ipynb",
      "provenance": [],
      "collapsed_sections": [],
      "include_colab_link": true
    },
    "kernelspec": {
      "name": "python3",
      "display_name": "Python 3"
    },
    "language_info": {
      "name": "python"
    },
    "accelerator": "GPU",
    "widgets": {
      "application/vnd.jupyter.widget-state+json": {
        "07ec0d89c14749b1979ed76db5595e61": {
          "model_module": "@jupyter-widgets/controls",
          "model_name": "HBoxModel",
          "model_module_version": "1.5.0",
          "state": {
            "_view_name": "HBoxView",
            "_dom_classes": [],
            "_model_name": "HBoxModel",
            "_view_module": "@jupyter-widgets/controls",
            "_model_module_version": "1.5.0",
            "_view_count": null,
            "_view_module_version": "1.5.0",
            "box_style": "",
            "layout": "IPY_MODEL_2e38f91ff6e54cd28c639da3ab8a82ee",
            "_model_module": "@jupyter-widgets/controls",
            "children": [
              "IPY_MODEL_ad5c9e2f318b4c6093dd07e9a92b657b",
              "IPY_MODEL_8c94ec4327d0472493c93ceaa8a1a05b",
              "IPY_MODEL_9f59a0f259844313a682ef5377250059"
            ]
          }
        },
        "2e38f91ff6e54cd28c639da3ab8a82ee": {
          "model_module": "@jupyter-widgets/base",
          "model_name": "LayoutModel",
          "model_module_version": "1.2.0",
          "state": {
            "_view_name": "LayoutView",
            "grid_template_rows": null,
            "right": null,
            "justify_content": null,
            "_view_module": "@jupyter-widgets/base",
            "overflow": null,
            "_model_module_version": "1.2.0",
            "_view_count": null,
            "flex_flow": null,
            "width": null,
            "min_width": null,
            "border": null,
            "align_items": null,
            "bottom": null,
            "_model_module": "@jupyter-widgets/base",
            "top": null,
            "grid_column": null,
            "overflow_y": null,
            "overflow_x": null,
            "grid_auto_flow": null,
            "grid_area": null,
            "grid_template_columns": null,
            "flex": null,
            "_model_name": "LayoutModel",
            "justify_items": null,
            "grid_row": null,
            "max_height": null,
            "align_content": null,
            "visibility": null,
            "align_self": null,
            "height": null,
            "min_height": null,
            "padding": null,
            "grid_auto_rows": null,
            "grid_gap": null,
            "max_width": null,
            "order": null,
            "_view_module_version": "1.2.0",
            "grid_template_areas": null,
            "object_position": null,
            "object_fit": null,
            "grid_auto_columns": null,
            "margin": null,
            "display": null,
            "left": null
          }
        },
        "ad5c9e2f318b4c6093dd07e9a92b657b": {
          "model_module": "@jupyter-widgets/controls",
          "model_name": "HTMLModel",
          "model_module_version": "1.5.0",
          "state": {
            "_view_name": "HTMLView",
            "style": "IPY_MODEL_9d22ee818b754e0a89601b262443b040",
            "_dom_classes": [],
            "description": "",
            "_model_name": "HTMLModel",
            "placeholder": "​",
            "_view_module": "@jupyter-widgets/controls",
            "_model_module_version": "1.5.0",
            "value": "",
            "_view_count": null,
            "_view_module_version": "1.5.0",
            "description_tooltip": null,
            "_model_module": "@jupyter-widgets/controls",
            "layout": "IPY_MODEL_f826ff55685147f08b49c2ccbf7cd14c"
          }
        },
        "8c94ec4327d0472493c93ceaa8a1a05b": {
          "model_module": "@jupyter-widgets/controls",
          "model_name": "FloatProgressModel",
          "model_module_version": "1.5.0",
          "state": {
            "_view_name": "ProgressView",
            "style": "IPY_MODEL_ad5ada6b2b4c416687051c21c1abc13d",
            "_dom_classes": [],
            "description": "",
            "_model_name": "FloatProgressModel",
            "bar_style": "success",
            "max": 1,
            "_view_module": "@jupyter-widgets/controls",
            "_model_module_version": "1.5.0",
            "value": 1,
            "_view_count": null,
            "_view_module_version": "1.5.0",
            "orientation": "horizontal",
            "min": 0,
            "description_tooltip": null,
            "_model_module": "@jupyter-widgets/controls",
            "layout": "IPY_MODEL_49a83c20ffe642ccb7d323cf3773b5dd"
          }
        },
        "9f59a0f259844313a682ef5377250059": {
          "model_module": "@jupyter-widgets/controls",
          "model_name": "HTMLModel",
          "model_module_version": "1.5.0",
          "state": {
            "_view_name": "HTMLView",
            "style": "IPY_MODEL_8db1118043ad45deb3435a1b99ce9dde",
            "_dom_classes": [],
            "description": "",
            "_model_name": "HTMLModel",
            "placeholder": "​",
            "_view_module": "@jupyter-widgets/controls",
            "_model_module_version": "1.5.0",
            "value": " 20615/? [03:34&lt;00:00, 66.91it/s]",
            "_view_count": null,
            "_view_module_version": "1.5.0",
            "description_tooltip": null,
            "_model_module": "@jupyter-widgets/controls",
            "layout": "IPY_MODEL_6160224e0e534412b9019f0e747cca8c"
          }
        },
        "9d22ee818b754e0a89601b262443b040": {
          "model_module": "@jupyter-widgets/controls",
          "model_name": "DescriptionStyleModel",
          "model_module_version": "1.5.0",
          "state": {
            "_view_name": "StyleView",
            "_model_name": "DescriptionStyleModel",
            "description_width": "",
            "_view_module": "@jupyter-widgets/base",
            "_model_module_version": "1.5.0",
            "_view_count": null,
            "_view_module_version": "1.2.0",
            "_model_module": "@jupyter-widgets/controls"
          }
        },
        "f826ff55685147f08b49c2ccbf7cd14c": {
          "model_module": "@jupyter-widgets/base",
          "model_name": "LayoutModel",
          "model_module_version": "1.2.0",
          "state": {
            "_view_name": "LayoutView",
            "grid_template_rows": null,
            "right": null,
            "justify_content": null,
            "_view_module": "@jupyter-widgets/base",
            "overflow": null,
            "_model_module_version": "1.2.0",
            "_view_count": null,
            "flex_flow": null,
            "width": null,
            "min_width": null,
            "border": null,
            "align_items": null,
            "bottom": null,
            "_model_module": "@jupyter-widgets/base",
            "top": null,
            "grid_column": null,
            "overflow_y": null,
            "overflow_x": null,
            "grid_auto_flow": null,
            "grid_area": null,
            "grid_template_columns": null,
            "flex": null,
            "_model_name": "LayoutModel",
            "justify_items": null,
            "grid_row": null,
            "max_height": null,
            "align_content": null,
            "visibility": null,
            "align_self": null,
            "height": null,
            "min_height": null,
            "padding": null,
            "grid_auto_rows": null,
            "grid_gap": null,
            "max_width": null,
            "order": null,
            "_view_module_version": "1.2.0",
            "grid_template_areas": null,
            "object_position": null,
            "object_fit": null,
            "grid_auto_columns": null,
            "margin": null,
            "display": null,
            "left": null
          }
        },
        "ad5ada6b2b4c416687051c21c1abc13d": {
          "model_module": "@jupyter-widgets/controls",
          "model_name": "ProgressStyleModel",
          "model_module_version": "1.5.0",
          "state": {
            "_view_name": "StyleView",
            "_model_name": "ProgressStyleModel",
            "description_width": "",
            "_view_module": "@jupyter-widgets/base",
            "_model_module_version": "1.5.0",
            "_view_count": null,
            "_view_module_version": "1.2.0",
            "bar_color": null,
            "_model_module": "@jupyter-widgets/controls"
          }
        },
        "49a83c20ffe642ccb7d323cf3773b5dd": {
          "model_module": "@jupyter-widgets/base",
          "model_name": "LayoutModel",
          "model_module_version": "1.2.0",
          "state": {
            "_view_name": "LayoutView",
            "grid_template_rows": null,
            "right": null,
            "justify_content": null,
            "_view_module": "@jupyter-widgets/base",
            "overflow": null,
            "_model_module_version": "1.2.0",
            "_view_count": null,
            "flex_flow": null,
            "width": "20px",
            "min_width": null,
            "border": null,
            "align_items": null,
            "bottom": null,
            "_model_module": "@jupyter-widgets/base",
            "top": null,
            "grid_column": null,
            "overflow_y": null,
            "overflow_x": null,
            "grid_auto_flow": null,
            "grid_area": null,
            "grid_template_columns": null,
            "flex": null,
            "_model_name": "LayoutModel",
            "justify_items": null,
            "grid_row": null,
            "max_height": null,
            "align_content": null,
            "visibility": null,
            "align_self": null,
            "height": null,
            "min_height": null,
            "padding": null,
            "grid_auto_rows": null,
            "grid_gap": null,
            "max_width": null,
            "order": null,
            "_view_module_version": "1.2.0",
            "grid_template_areas": null,
            "object_position": null,
            "object_fit": null,
            "grid_auto_columns": null,
            "margin": null,
            "display": null,
            "left": null
          }
        },
        "8db1118043ad45deb3435a1b99ce9dde": {
          "model_module": "@jupyter-widgets/controls",
          "model_name": "DescriptionStyleModel",
          "model_module_version": "1.5.0",
          "state": {
            "_view_name": "StyleView",
            "_model_name": "DescriptionStyleModel",
            "description_width": "",
            "_view_module": "@jupyter-widgets/base",
            "_model_module_version": "1.5.0",
            "_view_count": null,
            "_view_module_version": "1.2.0",
            "_model_module": "@jupyter-widgets/controls"
          }
        },
        "6160224e0e534412b9019f0e747cca8c": {
          "model_module": "@jupyter-widgets/base",
          "model_name": "LayoutModel",
          "model_module_version": "1.2.0",
          "state": {
            "_view_name": "LayoutView",
            "grid_template_rows": null,
            "right": null,
            "justify_content": null,
            "_view_module": "@jupyter-widgets/base",
            "overflow": null,
            "_model_module_version": "1.2.0",
            "_view_count": null,
            "flex_flow": null,
            "width": null,
            "min_width": null,
            "border": null,
            "align_items": null,
            "bottom": null,
            "_model_module": "@jupyter-widgets/base",
            "top": null,
            "grid_column": null,
            "overflow_y": null,
            "overflow_x": null,
            "grid_auto_flow": null,
            "grid_area": null,
            "grid_template_columns": null,
            "flex": null,
            "_model_name": "LayoutModel",
            "justify_items": null,
            "grid_row": null,
            "max_height": null,
            "align_content": null,
            "visibility": null,
            "align_self": null,
            "height": null,
            "min_height": null,
            "padding": null,
            "grid_auto_rows": null,
            "grid_gap": null,
            "max_width": null,
            "order": null,
            "_view_module_version": "1.2.0",
            "grid_template_areas": null,
            "object_position": null,
            "object_fit": null,
            "grid_auto_columns": null,
            "margin": null,
            "display": null,
            "left": null
          }
        }
      }
    }
  },
  "cells": [
    {
      "cell_type": "markdown",
      "metadata": {
        "id": "view-in-github",
        "colab_type": "text"
      },
      "source": [
        "<a href=\"https://colab.research.google.com/github/yusrilandrian/TugasPraktikumML_167-269/blob/yusril/MODUL_2_KEGIATAN_2_(Preprocessing).ipynb\" target=\"_parent\"><img src=\"https://colab.research.google.com/assets/colab-badge.svg\" alt=\"Open In Colab\"/></a>"
      ]
    },
    {
      "cell_type": "markdown",
      "metadata": {
        "id": "dt65GJ8nBP5X"
      },
      "source": [
        "# **LOAD DATA**"
      ]
    },
    {
      "cell_type": "code",
      "metadata": {
        "id": "ac4nqtRRwGwK"
      },
      "source": [
        "import pandas as pd\n",
        "import numpy as np\n",
        "import os, zipfile, cv2, shutil, math\n",
        "import matplotlib.pyplot as plt\n",
        "import matplotlib.image as mpimg\n",
        "import tensorflow as tf\n",
        "%matplotlib inline\n",
        "from sklearn.preprocessing import LabelEncoder\n",
        "from sklearn.model_selection import train_test_split\n",
        "from sklearn.metrics import classification_report\n",
        "from tqdm.notebook import tqdm as tq\n",
        "from tensorflow.keras.optimizers import Adam\n",
        "from keras import optimizers\n",
        "from keras.preprocessing import image\n",
        "from tensorflow.keras.models import Sequential\n",
        "from tensorflow.keras.layers import InputLayer, Dense, Conv2D, MaxPool2D, Flatten, Dropout\n",
        "from google.colab import drive"
      ],
      "execution_count": 40,
      "outputs": []
    },
    {
      "cell_type": "code",
      "metadata": {
        "colab": {
          "base_uri": "https://localhost:8080/"
        },
        "id": "jZFEIVcAyLxe",
        "outputId": "a1c72ca8-34b8-4503-bfe1-066aa88ab8ee"
      },
      "source": [
        "from google.colab import drive\n",
        "drive.mount('/content/drive')"
      ],
      "execution_count": 41,
      "outputs": [
        {
          "output_type": "stream",
          "name": "stdout",
          "text": [
            "Drive already mounted at /content/drive; to attempt to forcibly remount, call drive.mount(\"/content/drive\", force_remount=True).\n"
          ]
        }
      ]
    },
    {
      "cell_type": "code",
      "metadata": {
        "colab": {
          "base_uri": "https://localhost:8080/"
        },
        "id": "DNtfcPhqOvDm",
        "outputId": "4387e5fb-30f7-4ced-9b04-fe1fb92c1909"
      },
      "source": [
        "# masuk ke directory penyimpanan dataset anda\n",
        "%cd /content/drive/MyDrive/kaggle"
      ],
      "execution_count": 42,
      "outputs": [
        {
          "output_type": "stream",
          "name": "stdout",
          "text": [
            "/content/drive/MyDrive/kaggle\n"
          ]
        }
      ]
    },
    {
      "cell_type": "code",
      "metadata": {
        "id": "0h21Ug38O7Oz"
      },
      "source": [
        "import os\n",
        "os.environ['KAGGLE_CONFIG_DIR'] = \"/content/drive/MyDrive/kaggle\""
      ],
      "execution_count": 43,
      "outputs": []
    },
    {
      "cell_type": "code",
      "metadata": {
        "colab": {
          "base_uri": "https://localhost:8080/"
        },
        "id": "z8xoIgGnyWbd",
        "outputId": "a88aa7a7-2535-4c19-f77b-179b06be1c15"
      },
      "source": [
        "ls"
      ],
      "execution_count": 44,
      "outputs": [
        {
          "output_type": "stream",
          "name": "stdout",
          "text": [
            " breakhis-400x.zip                     SOB_B_A-14-22549AB-400-007.png\n",
            " \u001b[0m\u001b[01;34mdataset\u001b[0m/                              SOB_B_A-14-22549AB-400-022.png\n",
            " kaggle.json                          'SOB_B_A-14-22549CD-400-003 (1).png'\n",
            " orchids.zip                           SOB_B_A-14-22549CD-400-003.png\n",
            " SOB_B_A-14-22549AB-400-001.png        SOB_B_A-14-22549G-400-018.png\n",
            "'SOB_B_A-14-22549AB-400-007 (1).png'   SOB_B_F-14-21998EF-400-004.png\n",
            "'SOB_B_A-14-22549AB-400-007 (2).png'   SOB_M_DC-14-11031-400-005.png\n",
            "'SOB_B_A-14-22549AB-400-007 (3).png'\n"
          ]
        }
      ]
    },
    {
      "cell_type": "code",
      "metadata": {
        "id": "_zVIxi2NvcEG"
      },
      "source": [
        "local_zip = '/content/drive/MyDrive/kaggle/orchids.zip'\n",
        "zip_ref = zipfile.ZipFile(local_zip, 'r')\n",
        "zip_ref.extractall('/content/drive/MyDrive/Kaggle')\n",
        "zip_ref.close()"
      ],
      "execution_count": 45,
      "outputs": []
    },
    {
      "cell_type": "code",
      "metadata": {
        "colab": {
          "base_uri": "https://localhost:8080/"
        },
        "id": "_OhYC4hrvtxl",
        "outputId": "c0d9f661-4c7e-48c5-c746-9bc842df3afd"
      },
      "source": [
        "!kaggle datasets download -d mikful/orchids"
      ],
      "execution_count": null,
      "outputs": [
        {
          "output_type": "stream",
          "name": "stdout",
          "text": [
            "401 - Unauthorized\n"
          ]
        }
      ]
    },
    {
      "cell_type": "code",
      "metadata": {
        "colab": {
          "base_uri": "https://localhost:8080/"
        },
        "id": "HWoeBlbo7AE4",
        "outputId": "13198615-8e8c-4358-a052-2dd572ed7df3"
      },
      "source": [
        "os.listdir('/content/drive/MyDrive/kaggle/dataset')"
      ],
      "execution_count": 46,
      "outputs": [
        {
          "output_type": "execute_result",
          "data": {
            "text/plain": [
              "['Angraecum',\n",
              " 'Brassavola',\n",
              " 'Brassia',\n",
              " 'Cattleya',\n",
              " 'Cymbidium',\n",
              " 'Dendrobium',\n",
              " 'Encyclia',\n",
              " 'Epidendrum',\n",
              " 'Lycaste',\n",
              " 'Masdevallia',\n",
              " 'Maxillaria',\n",
              " 'Miltonia',\n",
              " 'Miltoniopsis',\n",
              " 'Odontoglossum',\n",
              " 'Oncidium',\n",
              " 'Paphiopedilum',\n",
              " 'Phalaenopsis',\n",
              " 'Vanda',\n",
              " 'Vanilla',\n",
              " 'Zygopetalum',\n",
              " 'dataset']"
            ]
          },
          "metadata": {},
          "execution_count": 46
        }
      ]
    },
    {
      "cell_type": "code",
      "metadata": {
        "id": "Z8XRG4Bqw7lu"
      },
      "source": [
        "# Path Directory\n",
        "brassia_dir = '/content/dataset/Brassia'\n",
        "miltonia_dir = '/content/dataset/Miltonia'"
      ],
      "execution_count": null,
      "outputs": []
    },
    {
      "cell_type": "code",
      "metadata": {
        "id": "QJqtP4v37iBF"
      },
      "source": [
        "# Pastikan Folder hanya berisi jpg\n",
        "from PIL import Image\n",
        "base_dataset = '/content/drive/MyDrive/kaggle/dataset'\n",
        "class_dir = ['Brassia','Miltonia']\n",
        "for class_item in class_dir:\n",
        "  cur_dir = base_dataset + '/' + class_item + '/'\n",
        "  dataset = os.listdir(cur_dir)\n",
        "  for item in dataset :\n",
        "    im = Image.open(f\"{cur_dir}{item}\")\n",
        "    if item.endswith('.jpg'):\n",
        "      im.save(f\"{cur_dir}{item.split('.')[0]}.png\", \"png\")\n",
        "    else :\n",
        "      im.save(f\"{cur_dir}{item.split('.')[0]}.png\", \"png\")\n",
        "  for item in dataset :\n",
        "    if not item.endswith('.png'):\n",
        "      os.remove(os.path.join(cur_dir, item))"
      ],
      "execution_count": 47,
      "outputs": []
    },
    {
      "cell_type": "code",
      "metadata": {
        "id": "ik28VKLh8oZc"
      },
      "source": [
        "file_name = []\n",
        "tag = []\n",
        "full_path = []\n",
        "for path, subdirs, files in os.walk(base_dataset):\n",
        "    for name in files:\n",
        "        full_path.append(os.path.join(path, name)) \n",
        "        tag.append(path.split('/')[-1])        \n",
        "        file_name.append(name)"
      ],
      "execution_count": 48,
      "outputs": []
    },
    {
      "cell_type": "code",
      "metadata": {
        "colab": {
          "base_uri": "https://localhost:8080/"
        },
        "id": "4lIChmJw8srj",
        "outputId": "caa3e683-ab78-4cda-8ead-28ed130c22bf"
      },
      "source": [
        "# membuat dataframe dari variabel baru\n",
        "data = pd.DataFrame({'path':full_path,'file_name':file_name,'tag':tag})\n",
        "print(data.groupby(['tag']).size())"
      ],
      "execution_count": 49,
      "outputs": [
        {
          "output_type": "stream",
          "name": "stdout",
          "text": [
            "tag\n",
            "Angraecum         604\n",
            "Brassavola       1062\n",
            "Brassia           625\n",
            "Cattleya          614\n",
            "Cymbidium         572\n",
            "Dendrobium        540\n",
            "Encyclia          650\n",
            "Epidendrum        632\n",
            "Lycaste           612\n",
            "Masdevallia       690\n",
            "Maxillaria        440\n",
            "Miltonia          462\n",
            "Miltoniopsis      622\n",
            "Odontoglossum     438\n",
            "Oncidium          472\n",
            "Paphiopedilum     642\n",
            "Phalaenopsis      928\n",
            "Vanda             518\n",
            "Vanilla           430\n",
            "Zygopetalum       574\n",
            "dtype: int64\n"
          ]
        }
      ]
    },
    {
      "cell_type": "code",
      "metadata": {
        "id": "aNU-GOxT8xBk"
      },
      "source": [
        "x = data['path']\n",
        "y = data['tag']"
      ],
      "execution_count": 50,
      "outputs": []
    },
    {
      "cell_type": "code",
      "metadata": {
        "colab": {
          "base_uri": "https://localhost:8080/"
        },
        "id": "X26V0cFl77fa",
        "outputId": "6526dd29-29be-4670-b703-a4cd1c1245bd"
      },
      "source": [
        "# Splitting\n",
        "!pip install split_folders"
      ],
      "execution_count": 51,
      "outputs": [
        {
          "output_type": "stream",
          "name": "stdout",
          "text": [
            "Collecting split_folders\n",
            "  Downloading split_folders-0.4.3-py3-none-any.whl (7.4 kB)\n",
            "Installing collected packages: split-folders\n",
            "Successfully installed split-folders-0.4.3\n"
          ]
        }
      ]
    },
    {
      "cell_type": "code",
      "metadata": {
        "id": "_JUjTuZy88mA"
      },
      "source": [
        "X_train, X_val, y_train, y_val = train_test_split(x, y, test_size=0.30)"
      ],
      "execution_count": 52,
      "outputs": []
    },
    {
      "cell_type": "code",
      "metadata": {
        "id": "sbp7Utpe8_4u"
      },
      "source": [
        "# menyatukan ke dalam masing-masing dataframe\n",
        "data_tr = pd.DataFrame({'path':X_train, 'tag':y_train, 'set':'training'})\n",
        "\n",
        "data_val = pd.DataFrame({'path':X_val, 'tag':y_val, 'set':'validation'})"
      ],
      "execution_count": 54,
      "outputs": []
    },
    {
      "cell_type": "code",
      "metadata": {
        "colab": {
          "base_uri": "https://localhost:8080/"
        },
        "id": "7reWkW9L9D21",
        "outputId": "a877e9fe-caf3-47cf-f59c-878488a81d01"
      },
      "source": [
        "print('train size', len(data_tr))\n",
        "print('val size', len(data_val))"
      ],
      "execution_count": 55,
      "outputs": [
        {
          "output_type": "stream",
          "name": "stdout",
          "text": [
            "train size 8488\n",
            "val size 3639\n"
          ]
        }
      ]
    },
    {
      "cell_type": "code",
      "metadata": {
        "colab": {
          "base_uri": "https://localhost:8080/",
          "height": 49,
          "referenced_widgets": [
            "07ec0d89c14749b1979ed76db5595e61",
            "2e38f91ff6e54cd28c639da3ab8a82ee",
            "ad5c9e2f318b4c6093dd07e9a92b657b",
            "8c94ec4327d0472493c93ceaa8a1a05b",
            "9f59a0f259844313a682ef5377250059",
            "9d22ee818b754e0a89601b262443b040",
            "f826ff55685147f08b49c2ccbf7cd14c",
            "ad5ada6b2b4c416687051c21c1abc13d",
            "49a83c20ffe642ccb7d323cf3773b5dd",
            "8db1118043ad45deb3435a1b99ce9dde",
            "6160224e0e534412b9019f0e747cca8c"
          ]
        },
        "id": "MZvEMkPY9r9-",
        "outputId": "731296b7-2ddd-45cf-fbbd-9ea9b64bbfd0"
      },
      "source": [
        "dataset_path = '/content/drive/MyDrive/kaggle/model_dataset'\n",
        "\n",
        "data_all = data_tr.append([data_tr, data_val]).reset_index(drop=1)\n",
        "\n",
        "for index, row in tq(data_all.iterrows()):\n",
        "    \n",
        "    #detect filepath\n",
        "    file_path = row['path']\n",
        "    if os.path.exists(file_path) == False:\n",
        "            file_path = os.path.join(datasource_path,row['tag'],row['image'].split('.')[0])            \n",
        "    \n",
        "    #make folder destination dirs\n",
        "    if os.path.exists(os.path.join(dataset_path,row['set'],row['tag'])) == False:\n",
        "        os.makedirs(os.path.join(dataset_path,row['set'],row['tag']))\n",
        "    \n",
        "    #define file dest\n",
        "    destination_file_name = file_path.split('/')[-1]\n",
        "    file_dest = os.path.join(dataset_path,row['set'],row['tag'],destination_file_name)\n",
        "    \n",
        "    #copy file from source to dest\n",
        "    if os.path.exists(file_dest) == False:\n",
        "        shutil.copy2(file_path,file_dest)"
      ],
      "execution_count": 62,
      "outputs": [
        {
          "output_type": "display_data",
          "data": {
            "application/vnd.jupyter.widget-view+json": {
              "model_id": "07ec0d89c14749b1979ed76db5595e61",
              "version_minor": 0,
              "version_major": 2
            },
            "text/plain": [
              "0it [00:00, ?it/s]"
            ]
          },
          "metadata": {}
        }
      ]
    },
    {
      "cell_type": "code",
      "metadata": {
        "colab": {
          "base_uri": "https://localhost:8080/"
        },
        "id": "WKuTp605BSHX",
        "outputId": "8059e9d5-ba9d-4ca3-bcc1-bfe4f8bfc3e2"
      },
      "source": [
        "os.listdir('/content/drive/MyDrive/kaggle/model_dataset/training')"
      ],
      "execution_count": 63,
      "outputs": [
        {
          "output_type": "execute_result",
          "data": {
            "text/plain": [
              "['Paphiopedilum',\n",
              " 'Lycaste',\n",
              " 'Masdevallia',\n",
              " 'Vanilla',\n",
              " 'Dendrobium',\n",
              " 'Oncidium',\n",
              " 'Phalaenopsis',\n",
              " 'Brassavola',\n",
              " 'Brassia',\n",
              " 'Vanda',\n",
              " 'Encyclia',\n",
              " 'Cymbidium',\n",
              " 'Epidendrum',\n",
              " 'Zygopetalum',\n",
              " 'Angraecum',\n",
              " 'Miltonia',\n",
              " 'Cattleya',\n",
              " 'Maxillaria',\n",
              " 'Odontoglossum',\n",
              " 'Miltoniopsis']"
            ]
          },
          "metadata": {},
          "execution_count": 63
        }
      ]
    },
    {
      "cell_type": "code",
      "metadata": {
        "id": "kSH6sY-v8Qjr"
      },
      "source": [
        "brassia_train_dir = '/content/dataset/model_dataset/train/Brassia'\n",
        "brassia_val_dir = '/content/dataset/model_dataset/val/Brassia'\n",
        "miltonia_train_dir = '/content/dataset/model_dataset/train/Miltonia'\n",
        "miltonia_val_dir = '/content/dataset/model_dataset/val/Miltonia'"
      ],
      "execution_count": 64,
      "outputs": []
    },
    {
      "cell_type": "markdown",
      "metadata": {
        "id": "A9xohpHgBI5w"
      },
      "source": [
        "# **PREPROCESSING**"
      ]
    },
    {
      "cell_type": "code",
      "metadata": {
        "id": "jk0ipOl0BFFl"
      },
      "source": [
        "train_dir = '/content/dataset/model_dataset/train'\n",
        "val_dir = '/content/dataset/model_dataset/val'"
      ],
      "execution_count": 68,
      "outputs": []
    },
    {
      "cell_type": "code",
      "metadata": {
        "id": "9w4Qobl1BsFa"
      },
      "source": [
        "# Gather data train\n",
        "train_data = []\n",
        "train_label = []\n",
        "\n",
        "train_dir='/content/drive/MyDrive/kaggle/model_dataset/training'\n",
        "for r, d, f in os.walk(train_dir):\n",
        "    for file in f:\n",
        "        if \".png\" in file:\n",
        "            imagePath = os.path.join(r, file)\n",
        "            image = cv2.imread(imagePath)\n",
        "            image = cv2.resize(image, (250,250))\n",
        "            train_data.append(image)\n",
        "            label = imagePath.split(os.path.sep)[-2]\n",
        "            train_label.append(label)\n",
        "\n",
        "train_data = np.array(train_data)\n",
        "train_label = np.array(train_label)"
      ],
      "execution_count": 70,
      "outputs": []
    },
    {
      "cell_type": "code",
      "metadata": {
        "id": "KTQvXwtbBy_7"
      },
      "source": [
        "# Gather data validation\n",
        "val_data = []\n",
        "val_label = []\n",
        "\n",
        "vali_dir='/content/drive/MyDrive/kaggle/model_dataset/validation'\n",
        "for r, d, f in os.walk(vali_dir):\n",
        "    for file in f:\n",
        "        if \".png\" in file:\n",
        "            imagePath = os.path.join(r, file)\n",
        "            image = cv2.imread(imagePath)\n",
        "            image = cv2.resize(image, (250,250))\n",
        "            val_data.append(image)\n",
        "            label = imagePath.split(os.path.sep)[-2]\n",
        "            val_label.append(label)\n",
        "\n",
        "val_data = np.array(val_data)\n",
        "val_label = np.array(val_label)"
      ],
      "execution_count": 71,
      "outputs": []
    },
    {
      "cell_type": "code",
      "metadata": {
        "colab": {
          "base_uri": "https://localhost:8080/"
        },
        "id": "v3yjhBp0DsJm",
        "outputId": "88eaab58-fbce-4c84-c03f-95f3180f05f2"
      },
      "source": [
        "# Tampilkan shape dari data train dan data validation\n",
        "print('Data Training Shape : ', train_data.shape)\n",
        "print('Data Validation Shape : ', val_data.shape)"
      ],
      "execution_count": 72,
      "outputs": [
        {
          "output_type": "stream",
          "name": "stdout",
          "text": [
            "Data Training Shape :  (485, 250, 250, 3)\n",
            "Data Validation Shape :  (232, 250, 250, 3)\n"
          ]
        }
      ]
    },
    {
      "cell_type": "code",
      "metadata": {
        "colab": {
          "base_uri": "https://localhost:8080/"
        },
        "id": "w1zt9qimDw58",
        "outputId": "00a4075e-9c17-46cb-fe40-9594153a11c6"
      },
      "source": [
        "# Normalisasi dataset\n",
        "print(\"Data sebelum di-normalisasi \", train_data[0][0][0])\n",
        "\n",
        "x_train = train_data.astype('float32') / 255.0\n",
        "x_val = val_data.astype('float32') / 255.0\n",
        "print(\"Data setelah di-normalisasi \", x_train[0][0][0])"
      ],
      "execution_count": 73,
      "outputs": [
        {
          "output_type": "stream",
          "name": "stdout",
          "text": [
            "Data sebelum di-normalisasi  [255 255 255]\n",
            "Data setelah di-normalisasi  [1. 1. 1.]\n"
          ]
        }
      ]
    },
    {
      "cell_type": "code",
      "metadata": {
        "colab": {
          "base_uri": "https://localhost:8080/"
        },
        "id": "Es2w6CUiD1wt",
        "outputId": "c8d40351-f545-4eb9-8cc0-7e3a1f9bbc43"
      },
      "source": [
        "# Transformasi label encoder\n",
        "from sklearn.preprocessing import LabelEncoder\n",
        "\n",
        "print(\"Label sebelum di-encoder \", train_label[0:10])\n",
        "\n",
        "lb = LabelEncoder()\n",
        "y_train = lb.fit_transform(train_label)\n",
        "y_test = lb.fit_transform(val_label)\n",
        "\n",
        "print(\"Label setelah di-encoder \", y_train[0:10])"
      ],
      "execution_count": 76,
      "outputs": [
        {
          "output_type": "stream",
          "name": "stdout",
          "text": [
            "Label sebelum di-encoder  ['Paphiopedilum' 'Paphiopedilum' 'Paphiopedilum' 'Paphiopedilum'\n",
            " 'Paphiopedilum' 'Paphiopedilum' 'Paphiopedilum' 'Paphiopedilum'\n",
            " 'Paphiopedilum' 'Lycaste']\n",
            "Label setelah di-encoder  [15 15 15 15 15 15 15 15 15  8]\n"
          ]
        }
      ]
    },
    {
      "cell_type": "markdown",
      "metadata": {
        "id": "9o9SzPYnEqYq"
      },
      "source": [
        "# **DEFINISIKAN MODEL**"
      ]
    },
    {
      "cell_type": "code",
      "metadata": {
        "id": "HV5I3CJ1EsZO"
      },
      "source": [
        "from tensorflow.keras.optimizers import Adam\n",
        "from tensorflow.keras.models import Sequential\n",
        "from tensorflow.keras.layers import InputLayer, Dense, Conv2D, MaxPool2D, Flatten, GlobalMaxPooling2D, GlobalAveragePooling2D, AveragePooling2D"
      ],
      "execution_count": 77,
      "outputs": []
    },
    {
      "cell_type": "markdown",
      "metadata": {
        "id": "Ph3qUoX7FVBm"
      },
      "source": [
        "MODEL MAX POOLING"
      ]
    },
    {
      "cell_type": "code",
      "metadata": {
        "id": "Gc0qVqCTFFS8",
        "colab": {
          "base_uri": "https://localhost:8080/"
        },
        "outputId": "e7845113-f357-435d-9227-49bb41373846"
      },
      "source": [
        "# Feature Extraction Layer\n",
        "model = Sequential()\n",
        "\n",
        "model.add(InputLayer(input_shape=[250,250,3]))\n",
        "model.add(Conv2D(filters=16, kernel_size=3, strides=1, padding='same', activation='relu'))\n",
        "model.add(MaxPool2D(pool_size=2, padding='same'))\n",
        "model.add(Conv2D(filters=32, kernel_size=3, strides=1, padding='same', activation='relu'))\n",
        "model.add(MaxPool2D(pool_size=2, padding='same'))\n",
        "model.add(Conv2D(filters=64, kernel_size=3, strides=1, padding='same', activation='relu'))\n",
        "model.add(GlobalMaxPooling2D())\n",
        "model.add(Flatten())\n",
        "\n",
        "# Fully Connected Layer\n",
        "model.add(Dense(128, activation='relu'))\n",
        "model.add(Dense(9, activation='softmax'))\n",
        "\n",
        "# Print model summary\n",
        "print(model.summary())"
      ],
      "execution_count": 79,
      "outputs": [
        {
          "output_type": "stream",
          "name": "stdout",
          "text": [
            "Model: \"sequential_1\"\n",
            "_________________________________________________________________\n",
            "Layer (type)                 Output Shape              Param #   \n",
            "=================================================================\n",
            "conv2d_3 (Conv2D)            (None, 250, 250, 16)      448       \n",
            "_________________________________________________________________\n",
            "max_pooling2d_2 (MaxPooling2 (None, 125, 125, 16)      0         \n",
            "_________________________________________________________________\n",
            "conv2d_4 (Conv2D)            (None, 125, 125, 32)      4640      \n",
            "_________________________________________________________________\n",
            "max_pooling2d_3 (MaxPooling2 (None, 63, 63, 32)        0         \n",
            "_________________________________________________________________\n",
            "conv2d_5 (Conv2D)            (None, 63, 63, 64)        18496     \n",
            "_________________________________________________________________\n",
            "global_max_pooling2d_1 (Glob (None, 64)                0         \n",
            "_________________________________________________________________\n",
            "flatten_1 (Flatten)          (None, 64)                0         \n",
            "_________________________________________________________________\n",
            "dense_2 (Dense)              (None, 128)               8320      \n",
            "_________________________________________________________________\n",
            "dense_3 (Dense)              (None, 9)                 1161      \n",
            "=================================================================\n",
            "Total params: 33,065\n",
            "Trainable params: 33,065\n",
            "Non-trainable params: 0\n",
            "_________________________________________________________________\n",
            "None\n"
          ]
        }
      ]
    },
    {
      "cell_type": "code",
      "metadata": {
        "id": "h1qD3BqkFinm"
      },
      "source": [
        "# Compile model\n",
        "model.compile(optimizer=Adam(learning_rate=0.001), \n",
        "              loss='sparse_categorical_crossentropy', \n",
        "              metrics=['acc'])"
      ],
      "execution_count": 85,
      "outputs": []
    },
    {
      "cell_type": "markdown",
      "metadata": {
        "id": "_f43hppNFsej"
      },
      "source": [
        "MODEL AVERAGE POOLING"
      ]
    },
    {
      "cell_type": "code",
      "metadata": {
        "id": "GyA1BOwBFzIe",
        "colab": {
          "base_uri": "https://localhost:8080/"
        },
        "outputId": "5c40f79e-ab5e-453f-b6ed-f1a2bf5e45c1"
      },
      "source": [
        "\n",
        "# Scenario Modelling 2\n",
        "\n",
        "# Feature Exctraction Layer\n",
        "Model = Sequential()\n",
        "\n",
        "Model.add(InputLayer(input_shape=[250,250,3]))\n",
        "Model.add(Conv2D(filters=64, kernel_size=3, strides=1, padding='same', activation='relu'))\n",
        "Model.add(AveragePooling2D(pool_size=2, padding='same'))\n",
        "Model.add(Conv2D(filters=128, kernel_size=3, strides=1, padding='same', activation='relu'))\n",
        "Model.add(AveragePooling2D(pool_size=2, padding='same'))\n",
        "Model.add(Conv2D(filters=512, kernel_size=3, strides=1, padding='same', activation='relu'))\n",
        "Model.add(GlobalAveragePooling2D())\n",
        "Model.add(Flatten())\n",
        "\n",
        "# Fully Connected Layer\n",
        "Model.add(Dense(128, activation='relu'))\n",
        "Model.add(Dense(9, activation='softmax'))\n",
        "\n",
        "# Print model summary\n",
        "print(Model.summary())"
      ],
      "execution_count": 80,
      "outputs": [
        {
          "output_type": "stream",
          "name": "stdout",
          "text": [
            "Model: \"sequential_2\"\n",
            "_________________________________________________________________\n",
            "Layer (type)                 Output Shape              Param #   \n",
            "=================================================================\n",
            "conv2d_6 (Conv2D)            (None, 250, 250, 64)      1792      \n",
            "_________________________________________________________________\n",
            "average_pooling2d (AveragePo (None, 125, 125, 64)      0         \n",
            "_________________________________________________________________\n",
            "conv2d_7 (Conv2D)            (None, 125, 125, 128)     73856     \n",
            "_________________________________________________________________\n",
            "average_pooling2d_1 (Average (None, 63, 63, 128)       0         \n",
            "_________________________________________________________________\n",
            "conv2d_8 (Conv2D)            (None, 63, 63, 512)       590336    \n",
            "_________________________________________________________________\n",
            "global_average_pooling2d (Gl (None, 512)               0         \n",
            "_________________________________________________________________\n",
            "flatten_2 (Flatten)          (None, 512)               0         \n",
            "_________________________________________________________________\n",
            "dense_4 (Dense)              (None, 128)               65664     \n",
            "_________________________________________________________________\n",
            "dense_5 (Dense)              (None, 9)                 1161      \n",
            "=================================================================\n",
            "Total params: 732,809\n",
            "Trainable params: 732,809\n",
            "Non-trainable params: 0\n",
            "_________________________________________________________________\n",
            "None\n"
          ]
        }
      ]
    },
    {
      "cell_type": "code",
      "metadata": {
        "id": "LId3ed8DF6jD"
      },
      "source": [
        "# Compile model\n",
        "\n",
        "Model.compile(optimizer=Adam(learning_rate=0.001), \n",
        "              loss='sparse_categorical_crossentropy', \n",
        "              metrics=['acc'])"
      ],
      "execution_count": 86,
      "outputs": []
    },
    {
      "cell_type": "code",
      "metadata": {
        "id": "WdTgYcG_RRko",
        "colab": {
          "base_uri": "https://localhost:8080/"
        },
        "outputId": "f2a75570-33bb-4cd9-ac53-e0bd6670b40c"
      },
      "source": [
        "H = model.fit(\n",
        "    x_train, \n",
        "    Y_train, \n",
        "    batch_size=32, \n",
        "    epochs=100, \n",
        "    validation_data=(x_val, Y_val)\n",
        "    )"
      ],
      "execution_count": 87,
      "outputs": [
        {
          "output_type": "stream",
          "name": "stdout",
          "text": [
            "Epoch 1/100\n",
            "16/16 [==============================] - 33s 129ms/step - loss: nan - acc: 0.0062 - val_loss: nan - val_acc: 0.0043\n",
            "Epoch 2/100\n",
            "16/16 [==============================] - 1s 81ms/step - loss: nan - acc: 0.0062 - val_loss: nan - val_acc: 0.0043\n",
            "Epoch 3/100\n",
            "16/16 [==============================] - 1s 80ms/step - loss: nan - acc: 0.0062 - val_loss: nan - val_acc: 0.0043\n",
            "Epoch 4/100\n",
            "16/16 [==============================] - 1s 82ms/step - loss: nan - acc: 0.0062 - val_loss: nan - val_acc: 0.0043\n",
            "Epoch 5/100\n",
            "16/16 [==============================] - 1s 81ms/step - loss: nan - acc: 0.0062 - val_loss: nan - val_acc: 0.0043\n",
            "Epoch 6/100\n",
            "16/16 [==============================] - 1s 83ms/step - loss: nan - acc: 0.0062 - val_loss: nan - val_acc: 0.0043\n",
            "Epoch 7/100\n",
            "16/16 [==============================] - 1s 79ms/step - loss: nan - acc: 0.0062 - val_loss: nan - val_acc: 0.0043\n",
            "Epoch 8/100\n",
            "16/16 [==============================] - 1s 81ms/step - loss: nan - acc: 0.0062 - val_loss: nan - val_acc: 0.0043\n",
            "Epoch 9/100\n",
            "16/16 [==============================] - 1s 80ms/step - loss: nan - acc: 0.0062 - val_loss: nan - val_acc: 0.0043\n",
            "Epoch 10/100\n",
            "16/16 [==============================] - 1s 81ms/step - loss: nan - acc: 0.0062 - val_loss: nan - val_acc: 0.0043\n",
            "Epoch 11/100\n",
            "16/16 [==============================] - 1s 80ms/step - loss: nan - acc: 0.0062 - val_loss: nan - val_acc: 0.0043\n",
            "Epoch 12/100\n",
            "16/16 [==============================] - 1s 80ms/step - loss: nan - acc: 0.0062 - val_loss: nan - val_acc: 0.0043\n",
            "Epoch 13/100\n",
            "16/16 [==============================] - 1s 80ms/step - loss: nan - acc: 0.0062 - val_loss: nan - val_acc: 0.0043\n",
            "Epoch 14/100\n",
            "16/16 [==============================] - 1s 81ms/step - loss: nan - acc: 0.0062 - val_loss: nan - val_acc: 0.0043\n",
            "Epoch 15/100\n",
            "16/16 [==============================] - 1s 78ms/step - loss: nan - acc: 0.0062 - val_loss: nan - val_acc: 0.0043\n",
            "Epoch 16/100\n",
            "16/16 [==============================] - 1s 80ms/step - loss: nan - acc: 0.0062 - val_loss: nan - val_acc: 0.0043\n",
            "Epoch 17/100\n",
            "16/16 [==============================] - 1s 81ms/step - loss: nan - acc: 0.0062 - val_loss: nan - val_acc: 0.0043\n",
            "Epoch 18/100\n",
            "16/16 [==============================] - 1s 82ms/step - loss: nan - acc: 0.0062 - val_loss: nan - val_acc: 0.0043\n",
            "Epoch 19/100\n",
            "16/16 [==============================] - 1s 82ms/step - loss: nan - acc: 0.0062 - val_loss: nan - val_acc: 0.0043\n",
            "Epoch 20/100\n",
            "16/16 [==============================] - 1s 79ms/step - loss: nan - acc: 0.0062 - val_loss: nan - val_acc: 0.0043\n",
            "Epoch 21/100\n",
            "16/16 [==============================] - 1s 82ms/step - loss: nan - acc: 0.0062 - val_loss: nan - val_acc: 0.0043\n",
            "Epoch 22/100\n",
            "16/16 [==============================] - 1s 80ms/step - loss: nan - acc: 0.0062 - val_loss: nan - val_acc: 0.0043\n",
            "Epoch 23/100\n",
            "16/16 [==============================] - 1s 79ms/step - loss: nan - acc: 0.0062 - val_loss: nan - val_acc: 0.0043\n",
            "Epoch 24/100\n",
            "16/16 [==============================] - 1s 80ms/step - loss: nan - acc: 0.0062 - val_loss: nan - val_acc: 0.0043\n",
            "Epoch 25/100\n",
            "16/16 [==============================] - 1s 81ms/step - loss: nan - acc: 0.0062 - val_loss: nan - val_acc: 0.0043\n",
            "Epoch 26/100\n",
            "16/16 [==============================] - 1s 81ms/step - loss: nan - acc: 0.0062 - val_loss: nan - val_acc: 0.0043\n",
            "Epoch 27/100\n",
            "16/16 [==============================] - 1s 80ms/step - loss: nan - acc: 0.0062 - val_loss: nan - val_acc: 0.0043\n",
            "Epoch 28/100\n",
            "16/16 [==============================] - 1s 81ms/step - loss: nan - acc: 0.0062 - val_loss: nan - val_acc: 0.0043\n",
            "Epoch 29/100\n",
            "16/16 [==============================] - 1s 80ms/step - loss: nan - acc: 0.0062 - val_loss: nan - val_acc: 0.0043\n",
            "Epoch 30/100\n",
            "16/16 [==============================] - 1s 80ms/step - loss: nan - acc: 0.0062 - val_loss: nan - val_acc: 0.0043\n",
            "Epoch 31/100\n",
            "16/16 [==============================] - 1s 81ms/step - loss: nan - acc: 0.0062 - val_loss: nan - val_acc: 0.0043\n",
            "Epoch 32/100\n",
            "16/16 [==============================] - 1s 81ms/step - loss: nan - acc: 0.0062 - val_loss: nan - val_acc: 0.0043\n",
            "Epoch 33/100\n",
            "16/16 [==============================] - 1s 78ms/step - loss: nan - acc: 0.0062 - val_loss: nan - val_acc: 0.0043\n",
            "Epoch 34/100\n",
            "16/16 [==============================] - 1s 80ms/step - loss: nan - acc: 0.0062 - val_loss: nan - val_acc: 0.0043\n",
            "Epoch 35/100\n",
            "16/16 [==============================] - 1s 80ms/step - loss: nan - acc: 0.0062 - val_loss: nan - val_acc: 0.0043\n",
            "Epoch 36/100\n",
            "16/16 [==============================] - 1s 80ms/step - loss: nan - acc: 0.0062 - val_loss: nan - val_acc: 0.0043\n",
            "Epoch 37/100\n",
            "16/16 [==============================] - 1s 80ms/step - loss: nan - acc: 0.0062 - val_loss: nan - val_acc: 0.0043\n",
            "Epoch 38/100\n",
            "16/16 [==============================] - 1s 82ms/step - loss: nan - acc: 0.0062 - val_loss: nan - val_acc: 0.0043\n",
            "Epoch 39/100\n",
            "16/16 [==============================] - 1s 80ms/step - loss: nan - acc: 0.0062 - val_loss: nan - val_acc: 0.0043\n",
            "Epoch 40/100\n",
            "16/16 [==============================] - 1s 80ms/step - loss: nan - acc: 0.0062 - val_loss: nan - val_acc: 0.0043\n",
            "Epoch 41/100\n",
            "16/16 [==============================] - 1s 86ms/step - loss: nan - acc: 0.0062 - val_loss: nan - val_acc: 0.0043\n",
            "Epoch 42/100\n",
            "16/16 [==============================] - 1s 87ms/step - loss: nan - acc: 0.0062 - val_loss: nan - val_acc: 0.0043\n",
            "Epoch 43/100\n",
            "16/16 [==============================] - 1s 80ms/step - loss: nan - acc: 0.0062 - val_loss: nan - val_acc: 0.0043\n",
            "Epoch 44/100\n",
            "16/16 [==============================] - 1s 81ms/step - loss: nan - acc: 0.0062 - val_loss: nan - val_acc: 0.0043\n",
            "Epoch 45/100\n",
            "16/16 [==============================] - 1s 80ms/step - loss: nan - acc: 0.0062 - val_loss: nan - val_acc: 0.0043\n",
            "Epoch 46/100\n",
            "16/16 [==============================] - 1s 80ms/step - loss: nan - acc: 0.0062 - val_loss: nan - val_acc: 0.0043\n",
            "Epoch 47/100\n",
            "16/16 [==============================] - 1s 80ms/step - loss: nan - acc: 0.0062 - val_loss: nan - val_acc: 0.0043\n",
            "Epoch 48/100\n",
            "16/16 [==============================] - 1s 80ms/step - loss: nan - acc: 0.0062 - val_loss: nan - val_acc: 0.0043\n",
            "Epoch 49/100\n",
            "16/16 [==============================] - 1s 81ms/step - loss: nan - acc: 0.0062 - val_loss: nan - val_acc: 0.0043\n",
            "Epoch 50/100\n",
            "16/16 [==============================] - 1s 82ms/step - loss: nan - acc: 0.0062 - val_loss: nan - val_acc: 0.0043\n",
            "Epoch 51/100\n",
            "16/16 [==============================] - 1s 87ms/step - loss: nan - acc: 0.0062 - val_loss: nan - val_acc: 0.0043\n",
            "Epoch 52/100\n",
            "16/16 [==============================] - 1s 82ms/step - loss: nan - acc: 0.0062 - val_loss: nan - val_acc: 0.0043\n",
            "Epoch 53/100\n",
            "16/16 [==============================] - 1s 80ms/step - loss: nan - acc: 0.0062 - val_loss: nan - val_acc: 0.0043\n",
            "Epoch 54/100\n",
            "16/16 [==============================] - 1s 80ms/step - loss: nan - acc: 0.0062 - val_loss: nan - val_acc: 0.0043\n",
            "Epoch 55/100\n",
            "16/16 [==============================] - 1s 81ms/step - loss: nan - acc: 0.0062 - val_loss: nan - val_acc: 0.0043\n",
            "Epoch 56/100\n",
            "16/16 [==============================] - 1s 80ms/step - loss: nan - acc: 0.0062 - val_loss: nan - val_acc: 0.0043\n",
            "Epoch 57/100\n",
            "16/16 [==============================] - 1s 80ms/step - loss: nan - acc: 0.0062 - val_loss: nan - val_acc: 0.0043\n",
            "Epoch 58/100\n",
            "16/16 [==============================] - 1s 80ms/step - loss: nan - acc: 0.0062 - val_loss: nan - val_acc: 0.0043\n",
            "Epoch 59/100\n",
            "16/16 [==============================] - 1s 81ms/step - loss: nan - acc: 0.0062 - val_loss: nan - val_acc: 0.0043\n",
            "Epoch 60/100\n",
            "16/16 [==============================] - 1s 81ms/step - loss: nan - acc: 0.0062 - val_loss: nan - val_acc: 0.0043\n",
            "Epoch 61/100\n",
            "16/16 [==============================] - 1s 81ms/step - loss: nan - acc: 0.0062 - val_loss: nan - val_acc: 0.0043\n",
            "Epoch 62/100\n",
            "16/16 [==============================] - 1s 81ms/step - loss: nan - acc: 0.0062 - val_loss: nan - val_acc: 0.0043\n",
            "Epoch 63/100\n",
            "16/16 [==============================] - 1s 81ms/step - loss: nan - acc: 0.0062 - val_loss: nan - val_acc: 0.0043\n",
            "Epoch 64/100\n",
            "16/16 [==============================] - 1s 80ms/step - loss: nan - acc: 0.0062 - val_loss: nan - val_acc: 0.0043\n",
            "Epoch 65/100\n",
            "16/16 [==============================] - 1s 81ms/step - loss: nan - acc: 0.0062 - val_loss: nan - val_acc: 0.0043\n",
            "Epoch 66/100\n",
            "16/16 [==============================] - 1s 81ms/step - loss: nan - acc: 0.0062 - val_loss: nan - val_acc: 0.0043\n",
            "Epoch 67/100\n",
            "16/16 [==============================] - 1s 81ms/step - loss: nan - acc: 0.0062 - val_loss: nan - val_acc: 0.0043\n",
            "Epoch 68/100\n",
            "16/16 [==============================] - 1s 82ms/step - loss: nan - acc: 0.0062 - val_loss: nan - val_acc: 0.0043\n",
            "Epoch 69/100\n",
            "16/16 [==============================] - 1s 79ms/step - loss: nan - acc: 0.0062 - val_loss: nan - val_acc: 0.0043\n",
            "Epoch 70/100\n",
            "16/16 [==============================] - 1s 83ms/step - loss: nan - acc: 0.0062 - val_loss: nan - val_acc: 0.0043\n",
            "Epoch 71/100\n",
            "16/16 [==============================] - 1s 82ms/step - loss: nan - acc: 0.0062 - val_loss: nan - val_acc: 0.0043\n",
            "Epoch 72/100\n",
            "16/16 [==============================] - 1s 81ms/step - loss: nan - acc: 0.0062 - val_loss: nan - val_acc: 0.0043\n",
            "Epoch 73/100\n",
            "16/16 [==============================] - 1s 81ms/step - loss: nan - acc: 0.0062 - val_loss: nan - val_acc: 0.0043\n",
            "Epoch 74/100\n",
            "16/16 [==============================] - 1s 81ms/step - loss: nan - acc: 0.0062 - val_loss: nan - val_acc: 0.0043\n",
            "Epoch 75/100\n",
            "16/16 [==============================] - 1s 81ms/step - loss: nan - acc: 0.0062 - val_loss: nan - val_acc: 0.0043\n",
            "Epoch 76/100\n",
            "16/16 [==============================] - 1s 81ms/step - loss: nan - acc: 0.0062 - val_loss: nan - val_acc: 0.0043\n",
            "Epoch 77/100\n",
            "16/16 [==============================] - 1s 84ms/step - loss: nan - acc: 0.0062 - val_loss: nan - val_acc: 0.0043\n",
            "Epoch 78/100\n",
            "16/16 [==============================] - 1s 81ms/step - loss: nan - acc: 0.0062 - val_loss: nan - val_acc: 0.0043\n",
            "Epoch 79/100\n",
            "16/16 [==============================] - 1s 79ms/step - loss: nan - acc: 0.0062 - val_loss: nan - val_acc: 0.0043\n",
            "Epoch 80/100\n",
            "16/16 [==============================] - 1s 81ms/step - loss: nan - acc: 0.0062 - val_loss: nan - val_acc: 0.0043\n",
            "Epoch 81/100\n",
            "16/16 [==============================] - 1s 82ms/step - loss: nan - acc: 0.0062 - val_loss: nan - val_acc: 0.0043\n",
            "Epoch 82/100\n",
            "16/16 [==============================] - 1s 80ms/step - loss: nan - acc: 0.0062 - val_loss: nan - val_acc: 0.0043\n",
            "Epoch 83/100\n",
            "16/16 [==============================] - 1s 82ms/step - loss: nan - acc: 0.0062 - val_loss: nan - val_acc: 0.0043\n",
            "Epoch 84/100\n",
            "16/16 [==============================] - 1s 80ms/step - loss: nan - acc: 0.0062 - val_loss: nan - val_acc: 0.0043\n",
            "Epoch 85/100\n",
            "16/16 [==============================] - 1s 82ms/step - loss: nan - acc: 0.0062 - val_loss: nan - val_acc: 0.0043\n",
            "Epoch 86/100\n",
            "16/16 [==============================] - 1s 82ms/step - loss: nan - acc: 0.0062 - val_loss: nan - val_acc: 0.0043\n",
            "Epoch 87/100\n",
            "16/16 [==============================] - 1s 81ms/step - loss: nan - acc: 0.0062 - val_loss: nan - val_acc: 0.0043\n",
            "Epoch 88/100\n",
            "16/16 [==============================] - 1s 81ms/step - loss: nan - acc: 0.0062 - val_loss: nan - val_acc: 0.0043\n",
            "Epoch 89/100\n",
            "16/16 [==============================] - 1s 81ms/step - loss: nan - acc: 0.0062 - val_loss: nan - val_acc: 0.0043\n",
            "Epoch 90/100\n",
            "16/16 [==============================] - 1s 80ms/step - loss: nan - acc: 0.0062 - val_loss: nan - val_acc: 0.0043\n",
            "Epoch 91/100\n",
            "16/16 [==============================] - 1s 80ms/step - loss: nan - acc: 0.0062 - val_loss: nan - val_acc: 0.0043\n",
            "Epoch 92/100\n",
            "16/16 [==============================] - 1s 80ms/step - loss: nan - acc: 0.0062 - val_loss: nan - val_acc: 0.0043\n",
            "Epoch 93/100\n",
            "16/16 [==============================] - 1s 81ms/step - loss: nan - acc: 0.0062 - val_loss: nan - val_acc: 0.0043\n",
            "Epoch 94/100\n",
            "16/16 [==============================] - 1s 81ms/step - loss: nan - acc: 0.0062 - val_loss: nan - val_acc: 0.0043\n",
            "Epoch 95/100\n",
            "16/16 [==============================] - 1s 81ms/step - loss: nan - acc: 0.0062 - val_loss: nan - val_acc: 0.0043\n",
            "Epoch 96/100\n",
            "16/16 [==============================] - 1s 82ms/step - loss: nan - acc: 0.0062 - val_loss: nan - val_acc: 0.0043\n",
            "Epoch 97/100\n",
            "16/16 [==============================] - 1s 79ms/step - loss: nan - acc: 0.0062 - val_loss: nan - val_acc: 0.0043\n",
            "Epoch 98/100\n",
            "16/16 [==============================] - 1s 81ms/step - loss: nan - acc: 0.0062 - val_loss: nan - val_acc: 0.0043\n",
            "Epoch 99/100\n",
            "16/16 [==============================] - 1s 80ms/step - loss: nan - acc: 0.0062 - val_loss: nan - val_acc: 0.0043\n",
            "Epoch 100/100\n",
            "16/16 [==============================] - 1s 79ms/step - loss: nan - acc: 0.0062 - val_loss: nan - val_acc: 0.0043\n"
          ]
        }
      ]
    },
    {
      "cell_type": "code",
      "metadata": {
        "colab": {
          "base_uri": "https://localhost:8080/"
        },
        "id": "EvG5PYr-ECOK",
        "outputId": "8dc2522f-2458-4268-c7e4-426fc2070704"
      },
      "source": [
        "H = Model.fit(\n",
        "    x_train, \n",
        "    Y_train, \n",
        "    batch_size=32, \n",
        "    epochs=100, \n",
        "    validation_data=(x_val, Y_val)\n",
        "    )"
      ],
      "execution_count": 88,
      "outputs": [
        {
          "output_type": "stream",
          "name": "stdout",
          "text": [
            "Epoch 1/100\n",
            "16/16 [==============================] - 13s 462ms/step - loss: nan - acc: 0.0062 - val_loss: nan - val_acc: 0.0043\n",
            "Epoch 2/100\n",
            "16/16 [==============================] - 5s 303ms/step - loss: nan - acc: 0.0062 - val_loss: nan - val_acc: 0.0043\n",
            "Epoch 3/100\n",
            "16/16 [==============================] - 5s 305ms/step - loss: nan - acc: 0.0062 - val_loss: nan - val_acc: 0.0043\n",
            "Epoch 4/100\n",
            "16/16 [==============================] - 5s 301ms/step - loss: nan - acc: 0.0062 - val_loss: nan - val_acc: 0.0043\n",
            "Epoch 5/100\n",
            "16/16 [==============================] - 5s 304ms/step - loss: nan - acc: 0.0062 - val_loss: nan - val_acc: 0.0043\n",
            "Epoch 6/100\n",
            "16/16 [==============================] - 5s 304ms/step - loss: nan - acc: 0.0062 - val_loss: nan - val_acc: 0.0043\n",
            "Epoch 7/100\n",
            "16/16 [==============================] - 5s 303ms/step - loss: nan - acc: 0.0062 - val_loss: nan - val_acc: 0.0043\n",
            "Epoch 8/100\n",
            "16/16 [==============================] - 5s 302ms/step - loss: nan - acc: 0.0062 - val_loss: nan - val_acc: 0.0043\n",
            "Epoch 9/100\n",
            "16/16 [==============================] - 5s 303ms/step - loss: nan - acc: 0.0062 - val_loss: nan - val_acc: 0.0043\n",
            "Epoch 10/100\n",
            "16/16 [==============================] - 5s 302ms/step - loss: nan - acc: 0.0062 - val_loss: nan - val_acc: 0.0043\n",
            "Epoch 11/100\n",
            "16/16 [==============================] - 5s 304ms/step - loss: nan - acc: 0.0062 - val_loss: nan - val_acc: 0.0043\n",
            "Epoch 12/100\n",
            "16/16 [==============================] - 5s 303ms/step - loss: nan - acc: 0.0062 - val_loss: nan - val_acc: 0.0043\n",
            "Epoch 13/100\n",
            "16/16 [==============================] - 5s 302ms/step - loss: nan - acc: 0.0062 - val_loss: nan - val_acc: 0.0043\n",
            "Epoch 14/100\n",
            "16/16 [==============================] - 5s 301ms/step - loss: nan - acc: 0.0062 - val_loss: nan - val_acc: 0.0043\n",
            "Epoch 15/100\n",
            "16/16 [==============================] - 5s 303ms/step - loss: nan - acc: 0.0062 - val_loss: nan - val_acc: 0.0043\n",
            "Epoch 16/100\n",
            "16/16 [==============================] - 5s 302ms/step - loss: nan - acc: 0.0062 - val_loss: nan - val_acc: 0.0043\n",
            "Epoch 17/100\n",
            "16/16 [==============================] - 5s 304ms/step - loss: nan - acc: 0.0062 - val_loss: nan - val_acc: 0.0043\n",
            "Epoch 18/100\n",
            "16/16 [==============================] - 5s 303ms/step - loss: nan - acc: 0.0062 - val_loss: nan - val_acc: 0.0043\n",
            "Epoch 19/100\n",
            "16/16 [==============================] - 5s 303ms/step - loss: nan - acc: 0.0062 - val_loss: nan - val_acc: 0.0043\n",
            "Epoch 20/100\n",
            "16/16 [==============================] - 5s 302ms/step - loss: nan - acc: 0.0062 - val_loss: nan - val_acc: 0.0043\n",
            "Epoch 21/100\n",
            "16/16 [==============================] - 5s 304ms/step - loss: nan - acc: 0.0062 - val_loss: nan - val_acc: 0.0043\n",
            "Epoch 22/100\n",
            "16/16 [==============================] - 5s 303ms/step - loss: nan - acc: 0.0062 - val_loss: nan - val_acc: 0.0043\n",
            "Epoch 23/100\n",
            "16/16 [==============================] - 5s 305ms/step - loss: nan - acc: 0.0062 - val_loss: nan - val_acc: 0.0043\n",
            "Epoch 24/100\n",
            "16/16 [==============================] - 5s 302ms/step - loss: nan - acc: 0.0062 - val_loss: nan - val_acc: 0.0043\n",
            "Epoch 25/100\n",
            "16/16 [==============================] - 5s 302ms/step - loss: nan - acc: 0.0062 - val_loss: nan - val_acc: 0.0043\n",
            "Epoch 26/100\n",
            "16/16 [==============================] - 5s 302ms/step - loss: nan - acc: 0.0062 - val_loss: nan - val_acc: 0.0043\n",
            "Epoch 27/100\n",
            "16/16 [==============================] - 5s 304ms/step - loss: nan - acc: 0.0062 - val_loss: nan - val_acc: 0.0043\n",
            "Epoch 28/100\n",
            "16/16 [==============================] - 5s 302ms/step - loss: nan - acc: 0.0062 - val_loss: nan - val_acc: 0.0043\n",
            "Epoch 29/100\n",
            "16/16 [==============================] - 5s 302ms/step - loss: nan - acc: 0.0062 - val_loss: nan - val_acc: 0.0043\n",
            "Epoch 30/100\n",
            "16/16 [==============================] - 5s 303ms/step - loss: nan - acc: 0.0062 - val_loss: nan - val_acc: 0.0043\n",
            "Epoch 31/100\n",
            "16/16 [==============================] - 5s 302ms/step - loss: nan - acc: 0.0062 - val_loss: nan - val_acc: 0.0043\n",
            "Epoch 32/100\n",
            "16/16 [==============================] - 5s 303ms/step - loss: nan - acc: 0.0062 - val_loss: nan - val_acc: 0.0043\n",
            "Epoch 33/100\n",
            "16/16 [==============================] - 5s 302ms/step - loss: nan - acc: 0.0062 - val_loss: nan - val_acc: 0.0043\n",
            "Epoch 34/100\n",
            "16/16 [==============================] - 5s 302ms/step - loss: nan - acc: 0.0062 - val_loss: nan - val_acc: 0.0043\n",
            "Epoch 35/100\n",
            "16/16 [==============================] - 5s 304ms/step - loss: nan - acc: 0.0062 - val_loss: nan - val_acc: 0.0043\n",
            "Epoch 36/100\n",
            "16/16 [==============================] - 5s 301ms/step - loss: nan - acc: 0.0062 - val_loss: nan - val_acc: 0.0043\n",
            "Epoch 37/100\n",
            "16/16 [==============================] - 5s 303ms/step - loss: nan - acc: 0.0062 - val_loss: nan - val_acc: 0.0043\n",
            "Epoch 38/100\n",
            "16/16 [==============================] - 5s 301ms/step - loss: nan - acc: 0.0062 - val_loss: nan - val_acc: 0.0043\n",
            "Epoch 39/100\n",
            "16/16 [==============================] - 5s 303ms/step - loss: nan - acc: 0.0062 - val_loss: nan - val_acc: 0.0043\n",
            "Epoch 40/100\n",
            "16/16 [==============================] - 5s 302ms/step - loss: nan - acc: 0.0062 - val_loss: nan - val_acc: 0.0043\n",
            "Epoch 41/100\n",
            "16/16 [==============================] - 5s 302ms/step - loss: nan - acc: 0.0062 - val_loss: nan - val_acc: 0.0043\n",
            "Epoch 42/100\n",
            "16/16 [==============================] - 5s 302ms/step - loss: nan - acc: 0.0062 - val_loss: nan - val_acc: 0.0043\n",
            "Epoch 43/100\n",
            "16/16 [==============================] - 5s 305ms/step - loss: nan - acc: 0.0062 - val_loss: nan - val_acc: 0.0043\n",
            "Epoch 44/100\n",
            "16/16 [==============================] - 5s 303ms/step - loss: nan - acc: 0.0062 - val_loss: nan - val_acc: 0.0043\n",
            "Epoch 45/100\n",
            "16/16 [==============================] - 5s 305ms/step - loss: nan - acc: 0.0062 - val_loss: nan - val_acc: 0.0043\n",
            "Epoch 46/100\n",
            "16/16 [==============================] - 5s 303ms/step - loss: nan - acc: 0.0062 - val_loss: nan - val_acc: 0.0043\n",
            "Epoch 47/100\n",
            "16/16 [==============================] - 5s 306ms/step - loss: nan - acc: 0.0062 - val_loss: nan - val_acc: 0.0043\n",
            "Epoch 48/100\n",
            "16/16 [==============================] - 5s 304ms/step - loss: nan - acc: 0.0062 - val_loss: nan - val_acc: 0.0043\n",
            "Epoch 49/100\n",
            "16/16 [==============================] - 5s 303ms/step - loss: nan - acc: 0.0062 - val_loss: nan - val_acc: 0.0043\n",
            "Epoch 50/100\n",
            "16/16 [==============================] - 5s 301ms/step - loss: nan - acc: 0.0062 - val_loss: nan - val_acc: 0.0043\n",
            "Epoch 51/100\n",
            "16/16 [==============================] - 5s 303ms/step - loss: nan - acc: 0.0062 - val_loss: nan - val_acc: 0.0043\n",
            "Epoch 52/100\n",
            "16/16 [==============================] - 5s 302ms/step - loss: nan - acc: 0.0062 - val_loss: nan - val_acc: 0.0043\n",
            "Epoch 53/100\n",
            "16/16 [==============================] - 5s 304ms/step - loss: nan - acc: 0.0062 - val_loss: nan - val_acc: 0.0043\n",
            "Epoch 54/100\n",
            "16/16 [==============================] - 5s 303ms/step - loss: nan - acc: 0.0062 - val_loss: nan - val_acc: 0.0043\n",
            "Epoch 55/100\n",
            "16/16 [==============================] - 5s 303ms/step - loss: nan - acc: 0.0062 - val_loss: nan - val_acc: 0.0043\n",
            "Epoch 56/100\n",
            "16/16 [==============================] - 5s 302ms/step - loss: nan - acc: 0.0062 - val_loss: nan - val_acc: 0.0043\n",
            "Epoch 57/100\n",
            "16/16 [==============================] - 5s 305ms/step - loss: nan - acc: 0.0062 - val_loss: nan - val_acc: 0.0043\n",
            "Epoch 58/100\n",
            "16/16 [==============================] - 5s 301ms/step - loss: nan - acc: 0.0062 - val_loss: nan - val_acc: 0.0043\n",
            "Epoch 59/100\n",
            "16/16 [==============================] - 5s 303ms/step - loss: nan - acc: 0.0062 - val_loss: nan - val_acc: 0.0043\n",
            "Epoch 60/100\n",
            "16/16 [==============================] - 5s 301ms/step - loss: nan - acc: 0.0062 - val_loss: nan - val_acc: 0.0043\n",
            "Epoch 61/100\n",
            "16/16 [==============================] - 5s 304ms/step - loss: nan - acc: 0.0062 - val_loss: nan - val_acc: 0.0043\n",
            "Epoch 62/100\n",
            "16/16 [==============================] - 5s 302ms/step - loss: nan - acc: 0.0062 - val_loss: nan - val_acc: 0.0043\n",
            "Epoch 63/100\n",
            "16/16 [==============================] - 5s 302ms/step - loss: nan - acc: 0.0062 - val_loss: nan - val_acc: 0.0043\n",
            "Epoch 64/100\n",
            "16/16 [==============================] - 5s 302ms/step - loss: nan - acc: 0.0062 - val_loss: nan - val_acc: 0.0043\n",
            "Epoch 65/100\n",
            "16/16 [==============================] - 5s 304ms/step - loss: nan - acc: 0.0062 - val_loss: nan - val_acc: 0.0043\n",
            "Epoch 66/100\n",
            "16/16 [==============================] - 5s 301ms/step - loss: nan - acc: 0.0062 - val_loss: nan - val_acc: 0.0043\n",
            "Epoch 67/100\n",
            "16/16 [==============================] - 5s 303ms/step - loss: nan - acc: 0.0062 - val_loss: nan - val_acc: 0.0043\n",
            "Epoch 68/100\n",
            "16/16 [==============================] - 5s 303ms/step - loss: nan - acc: 0.0062 - val_loss: nan - val_acc: 0.0043\n",
            "Epoch 69/100\n",
            "16/16 [==============================] - 5s 346ms/step - loss: nan - acc: 0.0062 - val_loss: nan - val_acc: 0.0043\n",
            "Epoch 70/100\n",
            "16/16 [==============================] - 5s 304ms/step - loss: nan - acc: 0.0062 - val_loss: nan - val_acc: 0.0043\n",
            "Epoch 71/100\n",
            "16/16 [==============================] - 5s 302ms/step - loss: nan - acc: 0.0062 - val_loss: nan - val_acc: 0.0043\n",
            "Epoch 72/100\n",
            "16/16 [==============================] - 5s 303ms/step - loss: nan - acc: 0.0062 - val_loss: nan - val_acc: 0.0043\n",
            "Epoch 73/100\n",
            "16/16 [==============================] - 5s 304ms/step - loss: nan - acc: 0.0062 - val_loss: nan - val_acc: 0.0043\n",
            "Epoch 74/100\n",
            "16/16 [==============================] - 5s 303ms/step - loss: nan - acc: 0.0062 - val_loss: nan - val_acc: 0.0043\n",
            "Epoch 75/100\n",
            "16/16 [==============================] - 5s 305ms/step - loss: nan - acc: 0.0062 - val_loss: nan - val_acc: 0.0043\n",
            "Epoch 76/100\n",
            "16/16 [==============================] - 5s 302ms/step - loss: nan - acc: 0.0062 - val_loss: nan - val_acc: 0.0043\n",
            "Epoch 77/100\n",
            "16/16 [==============================] - 5s 304ms/step - loss: nan - acc: 0.0062 - val_loss: nan - val_acc: 0.0043\n",
            "Epoch 78/100\n",
            "16/16 [==============================] - 5s 302ms/step - loss: nan - acc: 0.0062 - val_loss: nan - val_acc: 0.0043\n",
            "Epoch 79/100\n",
            "16/16 [==============================] - 5s 304ms/step - loss: nan - acc: 0.0062 - val_loss: nan - val_acc: 0.0043\n",
            "Epoch 80/100\n",
            "16/16 [==============================] - 5s 304ms/step - loss: nan - acc: 0.0062 - val_loss: nan - val_acc: 0.0043\n",
            "Epoch 81/100\n",
            "16/16 [==============================] - 5s 303ms/step - loss: nan - acc: 0.0062 - val_loss: nan - val_acc: 0.0043\n",
            "Epoch 82/100\n",
            "16/16 [==============================] - 5s 302ms/step - loss: nan - acc: 0.0062 - val_loss: nan - val_acc: 0.0043\n",
            "Epoch 83/100\n",
            "16/16 [==============================] - 5s 303ms/step - loss: nan - acc: 0.0062 - val_loss: nan - val_acc: 0.0043\n",
            "Epoch 84/100\n",
            "16/16 [==============================] - 5s 302ms/step - loss: nan - acc: 0.0062 - val_loss: nan - val_acc: 0.0043\n",
            "Epoch 85/100\n",
            "16/16 [==============================] - 5s 304ms/step - loss: nan - acc: 0.0062 - val_loss: nan - val_acc: 0.0043\n",
            "Epoch 86/100\n",
            "16/16 [==============================] - 5s 303ms/step - loss: nan - acc: 0.0062 - val_loss: nan - val_acc: 0.0043\n",
            "Epoch 87/100\n",
            "16/16 [==============================] - 5s 303ms/step - loss: nan - acc: 0.0062 - val_loss: nan - val_acc: 0.0043\n",
            "Epoch 88/100\n",
            "16/16 [==============================] - 5s 303ms/step - loss: nan - acc: 0.0062 - val_loss: nan - val_acc: 0.0043\n",
            "Epoch 89/100\n",
            "16/16 [==============================] - 5s 303ms/step - loss: nan - acc: 0.0062 - val_loss: nan - val_acc: 0.0043\n",
            "Epoch 90/100\n",
            "16/16 [==============================] - 5s 302ms/step - loss: nan - acc: 0.0062 - val_loss: nan - val_acc: 0.0043\n",
            "Epoch 91/100\n",
            "16/16 [==============================] - 5s 304ms/step - loss: nan - acc: 0.0062 - val_loss: nan - val_acc: 0.0043\n",
            "Epoch 92/100\n",
            "16/16 [==============================] - 5s 303ms/step - loss: nan - acc: 0.0062 - val_loss: nan - val_acc: 0.0043\n",
            "Epoch 93/100\n",
            "16/16 [==============================] - 5s 305ms/step - loss: nan - acc: 0.0062 - val_loss: nan - val_acc: 0.0043\n",
            "Epoch 94/100\n",
            "16/16 [==============================] - 5s 304ms/step - loss: nan - acc: 0.0062 - val_loss: nan - val_acc: 0.0043\n",
            "Epoch 95/100\n",
            "16/16 [==============================] - 5s 304ms/step - loss: nan - acc: 0.0062 - val_loss: nan - val_acc: 0.0043\n",
            "Epoch 96/100\n",
            "16/16 [==============================] - 5s 303ms/step - loss: nan - acc: 0.0062 - val_loss: nan - val_acc: 0.0043\n",
            "Epoch 97/100\n",
            "16/16 [==============================] - 5s 305ms/step - loss: nan - acc: 0.0062 - val_loss: nan - val_acc: 0.0043\n",
            "Epoch 98/100\n",
            "16/16 [==============================] - 5s 302ms/step - loss: nan - acc: 0.0062 - val_loss: nan - val_acc: 0.0043\n",
            "Epoch 99/100\n",
            "16/16 [==============================] - 5s 304ms/step - loss: nan - acc: 0.0062 - val_loss: nan - val_acc: 0.0043\n",
            "Epoch 100/100\n",
            "16/16 [==============================] - 5s 301ms/step - loss: nan - acc: 0.0062 - val_loss: nan - val_acc: 0.0043\n"
          ]
        }
      ]
    },
    {
      "cell_type": "code",
      "metadata": {
        "id": "GX4k6OQbFnkl"
      },
      "source": [
        ""
      ],
      "execution_count": null,
      "outputs": []
    }
  ]
}